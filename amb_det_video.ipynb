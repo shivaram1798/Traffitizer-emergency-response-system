{
 "cells": [
  {
   "cell_type": "code",
   "execution_count": 21,
   "metadata": {},
   "outputs": [
    {
     "ename": "AttributeError",
     "evalue": "module 'serial' has no attribute 'Serial'",
     "output_type": "error",
     "traceback": [
      "\u001b[1;31m---------------------------------------------------------------------------\u001b[0m",
      "\u001b[1;31mAttributeError\u001b[0m                            Traceback (most recent call last)",
      "\u001b[1;32m<ipython-input-21-b85cbb373209>\u001b[0m in \u001b[0;36m<module>\u001b[1;34m\u001b[0m\n\u001b[0;32m      3\u001b[0m \u001b[1;32mimport\u001b[0m \u001b[0mtime\u001b[0m   \u001b[1;31m#for delay functions\u001b[0m\u001b[1;33m\u001b[0m\u001b[1;33m\u001b[0m\u001b[0m\n\u001b[0;32m      4\u001b[0m \u001b[1;33m\u001b[0m\u001b[0m\n\u001b[1;32m----> 5\u001b[1;33m \u001b[0marduino\u001b[0m \u001b[1;33m=\u001b[0m \u001b[0mserial\u001b[0m\u001b[1;33m.\u001b[0m\u001b[0mSerial\u001b[0m\u001b[1;33m(\u001b[0m\u001b[1;34m'COM3'\u001b[0m\u001b[1;33m,\u001b[0m\u001b[1;36m9600\u001b[0m\u001b[1;33m)\u001b[0m \u001b[1;31m#Create Serial port object called arduinoSerialData\u001b[0m\u001b[1;33m\u001b[0m\u001b[1;33m\u001b[0m\u001b[0m\n\u001b[0m\u001b[0;32m      6\u001b[0m \u001b[1;33m\u001b[0m\u001b[0m\n\u001b[0;32m      7\u001b[0m \u001b[0mvideo_src\u001b[0m \u001b[1;33m=\u001b[0m \u001b[1;34m'amb_present.avi'\u001b[0m\u001b[1;33m\u001b[0m\u001b[1;33m\u001b[0m\u001b[0m\n",
      "\u001b[1;31mAttributeError\u001b[0m: module 'serial' has no attribute 'Serial'"
     ]
    }
   ],
   "source": [
    "import cv2\n",
    "import serial #for Serial communication\n",
    "import time   #for delay functions\n",
    " \n",
    "arduino = serial.Serial('COM3',9600) #Create Serial port object called arduinoSerialData\n",
    "\n",
    "video_src = 'amb_present.avi'\n",
    "\n",
    "ambulance_cap= cv2.VideoCapture(video_src)\n",
    "\n",
    "ambulance_cascade = cv2.CascadeClassifier('cascade.xml')\n",
    "\n",
    "print(\"started\")\n",
    "\n",
    "time.sleep(1)\n",
    "\n",
    "while True:\n",
    "    ret, img = ambulance_cap.read()\n",
    "   \n",
    "    if (type(img) == type(None)):\n",
    "        break\n",
    "    c=0\n",
    "    \n",
    "    yellow = cv2.cvtColor(img, cv2.COLOR_BGR2GRAY)\n",
    "    \n",
    "    ambulances = ambulance_cascade.detectMultiScale(yellow, 1.1, 2)\n",
    "    \n",
    "    for (x,y,w,h) in ambulances:\n",
    "        cv2.rectangle(img,(x,y),(x+w,y+h),(0,255,255),2)\n",
    "        if(c==0):\n",
    "            print(\"Ambulance detected from \",time.strftime(\"%H:%M:%S\",time.localtime()))\n",
    "        c=c+1\n",
    "        arduino.write(b\"1\")\n",
    "        time.sleep(1)\n",
    "    else:\n",
    "        print(\"No Ambulance at:\",time.strftime(\"%H:%M:%S\",time.localtime()))\n",
    "        arduino.write(b\"0\")\n",
    "        time.sleep(1)\n",
    "\n",
    "    cv2.imshow('traffitizer', img)\n",
    "    \n",
    "    if cv2.waitKey(33) == 27:\n",
    "        break\n",
    "    \n",
    "cv2.destroyAllWindows()"
   ]
  },
  {
   "cell_type": "code",
   "execution_count": 20,
   "metadata": {},
   "outputs": [
    {
     "ename": "ModuleNotFoundError",
     "evalue": "No module named 'pySerial'",
     "output_type": "error",
     "traceback": [
      "\u001b[1;31m---------------------------------------------------------------------------\u001b[0m",
      "\u001b[1;31mModuleNotFoundError\u001b[0m                       Traceback (most recent call last)",
      "\u001b[1;32m<ipython-input-20-c637f3aacd91>\u001b[0m in \u001b[0;36m<module>\u001b[1;34m\u001b[0m\n\u001b[1;32m----> 1\u001b[1;33m \u001b[1;32mfrom\u001b[0m \u001b[0mpySerial\u001b[0m \u001b[1;32mimport\u001b[0m \u001b[0mserial\u001b[0m\u001b[1;33m\u001b[0m\u001b[1;33m\u001b[0m\u001b[0m\n\u001b[0m",
      "\u001b[1;31mModuleNotFoundError\u001b[0m: No module named 'pySerial'"
     ]
    }
   ],
   "source": [
    "from pySerial import serial\n"
   ]
  },
  {
   "cell_type": "code",
   "execution_count": null,
   "metadata": {},
   "outputs": [],
   "source": []
  }
 ],
 "metadata": {
  "kernelspec": {
   "display_name": "Python 3",
   "language": "python",
   "name": "python3"
  },
  "language_info": {
   "codemirror_mode": {
    "name": "ipython",
    "version": 3
   },
   "file_extension": ".py",
   "mimetype": "text/x-python",
   "name": "python",
   "nbconvert_exporter": "python",
   "pygments_lexer": "ipython3",
   "version": "3.7.1"
  }
 },
 "nbformat": 4,
 "nbformat_minor": 2
}
